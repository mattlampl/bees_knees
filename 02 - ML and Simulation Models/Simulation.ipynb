{
  "nbformat": 4,
  "nbformat_minor": 0,
  "metadata": {
    "colab": {
      "provenance": []
    },
    "kernelspec": {
      "name": "python3",
      "display_name": "Python 3"
    },
    "language_info": {
      "name": "python"
    }
  },
  "cells": [
    {
      "cell_type": "markdown",
      "source": [
        "# Monte Carlo feature sampling\n",
        "Our model's cross-validation method for predicting yield is based on observations that can be aggregated by \\{geography\\} and \\{time\\}. To bolster validity for predictions in out-of-sample years, we will generate predictions for each future period by constructing yield *distributions* from simulations. These simulations will be conducted on input features sampled with Monte Carlo methods.\n",
        "\n",
        "This notebook will proceed through the above process as follows:\n",
        "1. Evaluate distributions of all input features\n",
        "2. Investigate correlation among features\n",
        "3. Implement Monte Carlo sampling for all relevant features.\n",
        "\n",
        "This output will be used as input for our top-performing ML models:\n",
        "4. Predict future yield."
      ],
      "metadata": {
        "id": "4h7KhiPqplwW"
      }
    },
    {
      "cell_type": "code",
      "execution_count": null,
      "metadata": {
        "colab": {
          "base_uri": "https://localhost:8080/"
        },
        "id": "9DtiBIJgpBqG",
        "outputId": "a50a5e72-ff96-4d26-c311-f6e8a92431e3"
      },
      "outputs": [
        {
          "output_type": "stream",
          "name": "stdout",
          "text": [
            "Drive already mounted at /content/drive; to attempt to forcibly remount, call drive.mount(\"/content/drive\", force_remount=True).\n"
          ]
        }
      ],
      "source": [
        "import numpy as np\n",
        "import pandas as pd\n",
        "\n",
        "import matplotlib.pyplot as plt\n",
        "import seaborn as sns\n",
        "\n",
        "import os\n",
        "from google.colab import drive\n",
        "drive.mount(\"/content/drive\", force_remount=False)\n",
        "path = \"/content/drive/MyDrive/DABP Project/Data/\""
      ]
    },
    {
      "cell_type": "markdown",
      "source": [
        "## Some preliminary EDA on Kaggle dataset\n",
        "Link [here](https://www.kaggle.com/datasets/kevinzmith/honey-with-neonic-pesticide)"
      ],
      "metadata": {
        "id": "GwRzE8gtvnJJ"
      }
    },
    {
      "cell_type": "code",
      "source": [
        "kag = pd.read_csv(os.path.join(path, 'vHoneyNeonic_v02.csv'))"
      ],
      "metadata": {
        "id": "fSiQbFr20tJh"
      },
      "execution_count": null,
      "outputs": []
    },
    {
      "cell_type": "code",
      "source": [
        "kag.info()"
      ],
      "metadata": {
        "colab": {
          "base_uri": "https://localhost:8080/"
        },
        "id": "EWeQoxk9vmGH",
        "outputId": "d977a6e3-43e6-4b1e-b492-fe64dc819aab"
      },
      "execution_count": null,
      "outputs": [
        {
          "output_type": "stream",
          "name": "stdout",
          "text": [
            "<class 'pandas.core.frame.DataFrame'>\n",
            "RangeIndex: 825 entries, 0 to 824\n",
            "Data columns (total 16 columns):\n",
            " #   Column         Non-Null Count  Dtype  \n",
            "---  ------         --------------  -----  \n",
            " 0   state          825 non-null    object \n",
            " 1   numcol         825 non-null    float64\n",
            " 2   yieldpercol    825 non-null    int64  \n",
            " 3   totalprod      825 non-null    float64\n",
            " 4   stocks         825 non-null    float64\n",
            " 5   priceperlb     825 non-null    float64\n",
            " 6   prodvalue      825 non-null    float64\n",
            " 7   year           825 non-null    int64  \n",
            " 8   StateName      825 non-null    object \n",
            " 9   Region         825 non-null    object \n",
            " 10  nCLOTHIANIDIN  761 non-null    float64\n",
            " 11  nIMIDACLOPRID  761 non-null    float64\n",
            " 12  nTHIAMETHOXAM  761 non-null    float64\n",
            " 13  nACETAMIPRID   761 non-null    float64\n",
            " 14  nTHIACLOPRID   761 non-null    float64\n",
            " 15  nAllNeonic     761 non-null    float64\n",
            "dtypes: float64(11), int64(2), object(3)\n",
            "memory usage: 103.2+ KB\n"
          ]
        }
      ]
    },
    {
      "cell_type": "code",
      "source": [
        "kag.head()"
      ],
      "metadata": {
        "colab": {
          "base_uri": "https://localhost:8080/",
          "height": 270
        },
        "id": "iibGztBSzqcq",
        "outputId": "19bc6ac7-c1f3-4444-a64e-0ad73b04603f"
      },
      "execution_count": null,
      "outputs": [
        {
          "output_type": "execute_result",
          "data": {
            "text/plain": [
              "  state   numcol  yieldpercol  totalprod    stocks  priceperlb  prodvalue  \\\n",
              "0    AL  11000.0           56   616000.0  209000.0        1.49   918000.0   \n",
              "1    AL  11000.0           72   792000.0  230000.0        1.21   958000.0   \n",
              "2    AL  12000.0           86  1032000.0  103000.0        1.18  1218000.0   \n",
              "3    AL  12000.0           87  1044000.0  282000.0        1.41  1472000.0   \n",
              "4    AL  13000.0           66   858000.0  266000.0        1.02   875000.0   \n",
              "\n",
              "   year StateName Region  nCLOTHIANIDIN  nIMIDACLOPRID  nTHIAMETHOXAM  \\\n",
              "0  2007   Alabama  South         7696.2         3258.1         4149.6   \n",
              "1  2006   Alabama  South          680.0         4230.2         5371.6   \n",
              "2  2002   Alabama  South            0.0         1178.8          840.4   \n",
              "3  2004   Alabama  South         2676.4         1323.9         3863.9   \n",
              "4  2005   Alabama  South         1503.6          994.5         5493.9   \n",
              "\n",
              "   nACETAMIPRID  nTHIACLOPRID  nAllNeonic  \n",
              "0           0.0           0.0     15103.9  \n",
              "1           0.0           0.0     10281.8  \n",
              "2           0.0           0.0      2019.2  \n",
              "3           0.0           0.0      7864.2  \n",
              "4           0.0           0.0      7992.0  "
            ],
            "text/html": [
              "\n",
              "  <div id=\"df-51cea82c-7f9b-4be1-a2d8-ca7e840dca19\">\n",
              "    <div class=\"colab-df-container\">\n",
              "      <div>\n",
              "<style scoped>\n",
              "    .dataframe tbody tr th:only-of-type {\n",
              "        vertical-align: middle;\n",
              "    }\n",
              "\n",
              "    .dataframe tbody tr th {\n",
              "        vertical-align: top;\n",
              "    }\n",
              "\n",
              "    .dataframe thead th {\n",
              "        text-align: right;\n",
              "    }\n",
              "</style>\n",
              "<table border=\"1\" class=\"dataframe\">\n",
              "  <thead>\n",
              "    <tr style=\"text-align: right;\">\n",
              "      <th></th>\n",
              "      <th>state</th>\n",
              "      <th>numcol</th>\n",
              "      <th>yieldpercol</th>\n",
              "      <th>totalprod</th>\n",
              "      <th>stocks</th>\n",
              "      <th>priceperlb</th>\n",
              "      <th>prodvalue</th>\n",
              "      <th>year</th>\n",
              "      <th>StateName</th>\n",
              "      <th>Region</th>\n",
              "      <th>nCLOTHIANIDIN</th>\n",
              "      <th>nIMIDACLOPRID</th>\n",
              "      <th>nTHIAMETHOXAM</th>\n",
              "      <th>nACETAMIPRID</th>\n",
              "      <th>nTHIACLOPRID</th>\n",
              "      <th>nAllNeonic</th>\n",
              "    </tr>\n",
              "  </thead>\n",
              "  <tbody>\n",
              "    <tr>\n",
              "      <th>0</th>\n",
              "      <td>AL</td>\n",
              "      <td>11000.0</td>\n",
              "      <td>56</td>\n",
              "      <td>616000.0</td>\n",
              "      <td>209000.0</td>\n",
              "      <td>1.49</td>\n",
              "      <td>918000.0</td>\n",
              "      <td>2007</td>\n",
              "      <td>Alabama</td>\n",
              "      <td>South</td>\n",
              "      <td>7696.2</td>\n",
              "      <td>3258.1</td>\n",
              "      <td>4149.6</td>\n",
              "      <td>0.0</td>\n",
              "      <td>0.0</td>\n",
              "      <td>15103.9</td>\n",
              "    </tr>\n",
              "    <tr>\n",
              "      <th>1</th>\n",
              "      <td>AL</td>\n",
              "      <td>11000.0</td>\n",
              "      <td>72</td>\n",
              "      <td>792000.0</td>\n",
              "      <td>230000.0</td>\n",
              "      <td>1.21</td>\n",
              "      <td>958000.0</td>\n",
              "      <td>2006</td>\n",
              "      <td>Alabama</td>\n",
              "      <td>South</td>\n",
              "      <td>680.0</td>\n",
              "      <td>4230.2</td>\n",
              "      <td>5371.6</td>\n",
              "      <td>0.0</td>\n",
              "      <td>0.0</td>\n",
              "      <td>10281.8</td>\n",
              "    </tr>\n",
              "    <tr>\n",
              "      <th>2</th>\n",
              "      <td>AL</td>\n",
              "      <td>12000.0</td>\n",
              "      <td>86</td>\n",
              "      <td>1032000.0</td>\n",
              "      <td>103000.0</td>\n",
              "      <td>1.18</td>\n",
              "      <td>1218000.0</td>\n",
              "      <td>2002</td>\n",
              "      <td>Alabama</td>\n",
              "      <td>South</td>\n",
              "      <td>0.0</td>\n",
              "      <td>1178.8</td>\n",
              "      <td>840.4</td>\n",
              "      <td>0.0</td>\n",
              "      <td>0.0</td>\n",
              "      <td>2019.2</td>\n",
              "    </tr>\n",
              "    <tr>\n",
              "      <th>3</th>\n",
              "      <td>AL</td>\n",
              "      <td>12000.0</td>\n",
              "      <td>87</td>\n",
              "      <td>1044000.0</td>\n",
              "      <td>282000.0</td>\n",
              "      <td>1.41</td>\n",
              "      <td>1472000.0</td>\n",
              "      <td>2004</td>\n",
              "      <td>Alabama</td>\n",
              "      <td>South</td>\n",
              "      <td>2676.4</td>\n",
              "      <td>1323.9</td>\n",
              "      <td>3863.9</td>\n",
              "      <td>0.0</td>\n",
              "      <td>0.0</td>\n",
              "      <td>7864.2</td>\n",
              "    </tr>\n",
              "    <tr>\n",
              "      <th>4</th>\n",
              "      <td>AL</td>\n",
              "      <td>13000.0</td>\n",
              "      <td>66</td>\n",
              "      <td>858000.0</td>\n",
              "      <td>266000.0</td>\n",
              "      <td>1.02</td>\n",
              "      <td>875000.0</td>\n",
              "      <td>2005</td>\n",
              "      <td>Alabama</td>\n",
              "      <td>South</td>\n",
              "      <td>1503.6</td>\n",
              "      <td>994.5</td>\n",
              "      <td>5493.9</td>\n",
              "      <td>0.0</td>\n",
              "      <td>0.0</td>\n",
              "      <td>7992.0</td>\n",
              "    </tr>\n",
              "  </tbody>\n",
              "</table>\n",
              "</div>\n",
              "      <button class=\"colab-df-convert\" onclick=\"convertToInteractive('df-51cea82c-7f9b-4be1-a2d8-ca7e840dca19')\"\n",
              "              title=\"Convert this dataframe to an interactive table.\"\n",
              "              style=\"display:none;\">\n",
              "        \n",
              "  <svg xmlns=\"http://www.w3.org/2000/svg\" height=\"24px\"viewBox=\"0 0 24 24\"\n",
              "       width=\"24px\">\n",
              "    <path d=\"M0 0h24v24H0V0z\" fill=\"none\"/>\n",
              "    <path d=\"M18.56 5.44l.94 2.06.94-2.06 2.06-.94-2.06-.94-.94-2.06-.94 2.06-2.06.94zm-11 1L8.5 8.5l.94-2.06 2.06-.94-2.06-.94L8.5 2.5l-.94 2.06-2.06.94zm10 10l.94 2.06.94-2.06 2.06-.94-2.06-.94-.94-2.06-.94 2.06-2.06.94z\"/><path d=\"M17.41 7.96l-1.37-1.37c-.4-.4-.92-.59-1.43-.59-.52 0-1.04.2-1.43.59L10.3 9.45l-7.72 7.72c-.78.78-.78 2.05 0 2.83L4 21.41c.39.39.9.59 1.41.59.51 0 1.02-.2 1.41-.59l7.78-7.78 2.81-2.81c.8-.78.8-2.07 0-2.86zM5.41 20L4 18.59l7.72-7.72 1.47 1.35L5.41 20z\"/>\n",
              "  </svg>\n",
              "      </button>\n",
              "      \n",
              "  <style>\n",
              "    .colab-df-container {\n",
              "      display:flex;\n",
              "      flex-wrap:wrap;\n",
              "      gap: 12px;\n",
              "    }\n",
              "\n",
              "    .colab-df-convert {\n",
              "      background-color: #E8F0FE;\n",
              "      border: none;\n",
              "      border-radius: 50%;\n",
              "      cursor: pointer;\n",
              "      display: none;\n",
              "      fill: #1967D2;\n",
              "      height: 32px;\n",
              "      padding: 0 0 0 0;\n",
              "      width: 32px;\n",
              "    }\n",
              "\n",
              "    .colab-df-convert:hover {\n",
              "      background-color: #E2EBFA;\n",
              "      box-shadow: 0px 1px 2px rgba(60, 64, 67, 0.3), 0px 1px 3px 1px rgba(60, 64, 67, 0.15);\n",
              "      fill: #174EA6;\n",
              "    }\n",
              "\n",
              "    [theme=dark] .colab-df-convert {\n",
              "      background-color: #3B4455;\n",
              "      fill: #D2E3FC;\n",
              "    }\n",
              "\n",
              "    [theme=dark] .colab-df-convert:hover {\n",
              "      background-color: #434B5C;\n",
              "      box-shadow: 0px 1px 3px 1px rgba(0, 0, 0, 0.15);\n",
              "      filter: drop-shadow(0px 1px 2px rgba(0, 0, 0, 0.3));\n",
              "      fill: #FFFFFF;\n",
              "    }\n",
              "  </style>\n",
              "\n",
              "      <script>\n",
              "        const buttonEl =\n",
              "          document.querySelector('#df-51cea82c-7f9b-4be1-a2d8-ca7e840dca19 button.colab-df-convert');\n",
              "        buttonEl.style.display =\n",
              "          google.colab.kernel.accessAllowed ? 'block' : 'none';\n",
              "\n",
              "        async function convertToInteractive(key) {\n",
              "          const element = document.querySelector('#df-51cea82c-7f9b-4be1-a2d8-ca7e840dca19');\n",
              "          const dataTable =\n",
              "            await google.colab.kernel.invokeFunction('convertToInteractive',\n",
              "                                                     [key], {});\n",
              "          if (!dataTable) return;\n",
              "\n",
              "          const docLinkHtml = 'Like what you see? Visit the ' +\n",
              "            '<a target=\"_blank\" href=https://colab.research.google.com/notebooks/data_table.ipynb>data table notebook</a>'\n",
              "            + ' to learn more about interactive tables.';\n",
              "          element.innerHTML = '';\n",
              "          dataTable['output_type'] = 'display_data';\n",
              "          await google.colab.output.renderOutput(dataTable, element);\n",
              "          const docLink = document.createElement('div');\n",
              "          docLink.innerHTML = docLinkHtml;\n",
              "          element.appendChild(docLink);\n",
              "        }\n",
              "      </script>\n",
              "    </div>\n",
              "  </div>\n",
              "  "
            ]
          },
          "metadata": {},
          "execution_count": 53
        }
      ]
    },
    {
      "cell_type": "code",
      "source": [
        "# Preparing data for line plot\n",
        "years = kag.year.sort_values().unique()\n",
        "totalprod = kag[['year','totalprod']].groupby(\n",
        "  'year', as_index=False\n",
        ").sum().sort_values('year').totalprod.values\n",
        "numcol = kag[['year','numcol']].groupby(\n",
        "  'year', as_index=False\n",
        ").sum().sort_values('year').numcol.values\n",
        "\n",
        "# Set figure style & size\n",
        "sns.set_style('ticks')\n",
        "fig, (ax1, ax2) = plt.subplots(1,2, figsize=(8,4))\n",
        "\n",
        "# Production plot\n",
        "ax1.plot(\n",
        "  years,\n",
        "  totalprod\n",
        ")\n",
        "ax1.set_ylim((0, 2.5e8))\n",
        "ax1.set_xlim((1997.5, 2017.5))\n",
        "ax1.set_xticks(range(1998,2018,3))\n",
        "ax1.set_xlabel('Year')\n",
        "ax1.set_ylabel('Total production')\n",
        "\n",
        "# Number of colony plot\n",
        "ax2.plot(\n",
        "  years,\n",
        "  numcol\n",
        ")\n",
        "ax2.set_xlim((1997.5, 2017.5))\n",
        "ax2.set_ylim((0, 3e6))\n",
        "ax2.set_xticks(range(1998,2018,3))\n",
        "ax2.set_xlabel('Year')\n",
        "ax2.set_ylabel('Number of colonies')\n",
        "\n",
        "# Show fig\n",
        "plt.tight_layout()\n",
        "plt.show()"
      ],
      "metadata": {
        "colab": {
          "base_uri": "https://localhost:8080/",
          "height": 297
        },
        "id": "Mj-MRNZv1PiC",
        "outputId": "aaf44161-119c-40c7-a5b3-b847fc583343"
      },
      "execution_count": null,
      "outputs": [
        {
          "output_type": "display_data",
          "data": {
            "text/plain": [
              "<Figure size 576x288 with 2 Axes>"
            ],
            "image/png": "[encoded data removed]"
          },
          "metadata": {}
        }
      ]
    },
    {
      "cell_type": "markdown",
      "source": [
        "Hmm, there's not really a reduction in colonies! Is that because per-state levels are stable, or are some states' counts shrinking while others are growing?"
      ],
      "metadata": {
        "id": "nvvsTXHfCWM9"
      }
    },
    {
      "cell_type": "code",
      "source": [
        "kag[\n",
        "  (kag.state == 'AL') & \\\n",
        "  (kag.year == 2017)\n",
        "].loc[:,'numcol'].values[0]"
      ],
      "metadata": {
        "colab": {
          "base_uri": "https://localhost:8080/"
        },
        "id": "J9SbVtC_EfDc",
        "outputId": "69f9da7a-611b-4865-d37e-7e272cde6164"
      },
      "execution_count": null,
      "outputs": [
        {
          "output_type": "execute_result",
          "data": {
            "text/plain": [
              "7000.0"
            ]
          },
          "metadata": {},
          "execution_count": 55
        }
      ]
    },
    {
      "cell_type": "code",
      "source": [
        "# Caluclate change in colonies over time per state\n",
        "## Find states that have values in 2000\n",
        "states_in_window = set(kag[\n",
        "  kag.year == 2000\n",
        "].state).intersection(\n",
        "  set(kag[\n",
        "    kag.year == 2015\n",
        "  ].state)\n",
        ")\n",
        "\n",
        "## Calculate 15-year changes for the states we have data for\n",
        "state_change = list()\n",
        "for s in states_in_window:\n",
        "\n",
        "  lvl_2015 = kag[\n",
        "    (kag.state == s) & \\\n",
        "    (kag.year == 2015)\n",
        "  ].loc[:,'numcol'].values[0]\n",
        "\n",
        "  lvl_2000 = kag[\n",
        "    (kag.state == s) & \\\n",
        "    (kag.year == 2000)\n",
        "  ].loc[:,'numcol'].values[0]\n",
        "\n",
        "  change = (lvl_2015 - lvl_2000) / lvl_2000\n",
        "  state_change.append(change)\n",
        "\n",
        "## Display histogram of state-by-state changes\n",
        "change = np.array(state_change)\n",
        "sns.histplot(x= change, bins=10)\n",
        "\n",
        "plt.show()"
      ],
      "metadata": {
        "colab": {
          "base_uri": "https://localhost:8080/",
          "height": 265
        },
        "id": "arYEe9H3Cfbg",
        "outputId": "c99995ec-331e-4424-c29a-b25383ec3661"
      },
      "execution_count": null,
      "outputs": [
        {
          "output_type": "display_data",
          "data": {
            "text/plain": [
              "<Figure size 432x288 with 1 Axes>"
            ],
            "image/png": "[encoded data removed]"
          },
          "metadata": {}
        }
      ]
    },
    {
      "cell_type": "markdown",
      "source": [
        "The spread here looks basically Normal. Can we spot any correlation with Neonic?"
      ],
      "metadata": {
        "id": "7qn5UK2YLLzk"
      }
    },
    {
      "cell_type": "code",
      "source": [
        "# Looking at per colony plot of yield per neonic\n",
        "kag.loc[:,'neonicpercol'] = kag.nAllNeonic / kag.numcol\n",
        "\n",
        "sns.scatterplot(\n",
        "  x= kag.neonicpercol,\n",
        "  y= kag.yieldpercol,\n",
        "  hue= kag.year\n",
        ")"
      ],
      "metadata": {
        "colab": {
          "base_uri": "https://localhost:8080/",
          "height": 296
        },
        "id": "dtCyg4OA-kDY",
        "outputId": "6a362b69-e389-4d87-9a32-bee66e3e6109"
      },
      "execution_count": null,
      "outputs": [
        {
          "output_type": "execute_result",
          "data": {
            "text/plain": [
              "<matplotlib.axes._subplots.AxesSubplot at 0x7f8a1d573b20>"
            ]
          },
          "metadata": {},
          "execution_count": 57
        },
        {
          "output_type": "display_data",
          "data": {
            "text/plain": [
              "<Figure size 432x288 with 1 Axes>"
            ],
            "image/png": "[encoded data removed]"
          },
          "metadata": {}
        }
      ]
    },
    {
      "cell_type": "markdown",
      "source": [
        "Neonic use clearly increases in the sample's later years, with per-colony production centered around 50. What's the use of Neonics over time look like?"
      ],
      "metadata": {
        "id": "NzbgBKigLtRe"
      }
    },
    {
      "cell_type": "code",
      "source": [
        "# Calculate yearly average of per-colony Neonics\n",
        "neonic = kag[['year','nAllNeonic']].groupby(\n",
        "  'year', as_index=False\n",
        ").sum().sort_values('year').nAllNeonic.values\n",
        "\n",
        "# Plot time series\n",
        "fig, ax = plt.subplots()\n",
        "ax.plot(years, neonic)"
      ],
      "metadata": {
        "colab": {
          "base_uri": "https://localhost:8080/",
          "height": 293
        },
        "id": "XOs5Q3cjXfiR",
        "outputId": "0f20a201-1f09-4eda-c355-cf9cfe6df10b"
      },
      "execution_count": null,
      "outputs": [
        {
          "output_type": "execute_result",
          "data": {
            "text/plain": [
              "[<matplotlib.lines.Line2D at 0x7f8a1d397d30>]"
            ]
          },
          "metadata": {},
          "execution_count": 58
        },
        {
          "output_type": "display_data",
          "data": {
            "text/plain": [
              "<Figure size 432x288 with 1 Axes>"
            ],
            "image/png": "[encoded data removed]"
          },
          "metadata": {}
        }
      ]
    },
    {
      "cell_type": "markdown",
      "source": [
        "And what's the general distribution of colony production like?"
      ],
      "metadata": {
        "id": "458ssWGNXf91"
      }
    },
    {
      "cell_type": "code",
      "source": [
        "# Looking at distribution of production per colony\n",
        "sns.histplot(x= kag.yieldpercol)"
      ],
      "metadata": {
        "colab": {
          "base_uri": "https://localhost:8080/",
          "height": 296
        },
        "id": "qK_whWBI56Lf",
        "outputId": "a9863532-3ef7-415e-880a-1c41501b6305"
      },
      "execution_count": null,
      "outputs": [
        {
          "output_type": "execute_result",
          "data": {
            "text/plain": [
              "<matplotlib.axes._subplots.AxesSubplot at 0x7f8a1d357550>"
            ]
          },
          "metadata": {},
          "execution_count": 59
        },
        {
          "output_type": "display_data",
          "data": {
            "text/plain": [
              "<Figure size 432x288 with 1 Axes>"
            ],
            "image/png": "[encoded data removed]"
          },
          "metadata": {}
        }
      ]
    },
    {
      "cell_type": "markdown",
      "source": [
        "Looks basically Gaussian, centered around 50. Hmm! What are we really looking for here? Doesn't really look like Neonic pesticides are the issue?"
      ],
      "metadata": {
        "id": "OG4skpf4CRQO"
      }
    },
    {
      "cell_type": "code",
      "source": [
        "sns.histplot(\n",
        "    x= kag[\n",
        "      kag.year <= 2005\n",
        "    ].yieldpercol\n",
        ")"
      ],
      "metadata": {
        "colab": {
          "base_uri": "https://localhost:8080/",
          "height": 296
        },
        "id": "Gm8UTZ4qZI8x",
        "outputId": "9b74e6b8-1ca9-4b4b-c2bb-490c97ab9875"
      },
      "execution_count": null,
      "outputs": [
        {
          "output_type": "execute_result",
          "data": {
            "text/plain": [
              "<matplotlib.axes._subplots.AxesSubplot at 0x7f8a1d2ea5e0>"
            ]
          },
          "metadata": {},
          "execution_count": 60
        },
        {
          "output_type": "display_data",
          "data": {
            "text/plain": [
              "<Figure size 432x288 with 1 Axes>"
            ],
            "image/png": "[encoded data removed]"
          },
          "metadata": {}
        }
      ]
    },
    {
      "cell_type": "code",
      "source": [
        "sns.histplot(\n",
        "    x= kag[\n",
        "      kag.year > 2005\n",
        "    ].yieldpercol\n",
        ")"
      ],
      "metadata": {
        "colab": {
          "base_uri": "https://localhost:8080/",
          "height": 296
        },
        "id": "QCjnWb96ZS8v",
        "outputId": "2ee97af9-c8d2-4c82-8be4-3f3cad7b30ba"
      },
      "execution_count": null,
      "outputs": [
        {
          "output_type": "execute_result",
          "data": {
            "text/plain": [
              "<matplotlib.axes._subplots.AxesSubplot at 0x7f8a1d24ca00>"
            ]
          },
          "metadata": {},
          "execution_count": 61
        },
        {
          "output_type": "display_data",
          "data": {
            "text/plain": [
              "<Figure size 432x288 with 1 Axes>"
            ],
            "image/png": "[encoded data removed]"
          },
          "metadata": {}
        }
      ]
    },
    {
      "cell_type": "markdown",
      "source": [
        "# Finding distribution of input features"
      ],
      "metadata": {
        "id": "9JtZsL3RWZmt"
      }
    },
    {
      "cell_type": "code",
      "source": [
        "# Finding Normal dist params for yieldpercol\n",
        "state_yieldpercol_params = kag[[\n",
        "  'state','yieldpercol'\n",
        "]].groupby('state').agg(['mean','std'])"
      ],
      "metadata": {
        "id": "9qAwZgGD_cLa"
      },
      "execution_count": null,
      "outputs": []
    },
    {
      "cell_type": "code",
      "source": [
        "state_yieldpercol_params"
      ],
      "metadata": {
        "colab": {
          "base_uri": "https://localhost:8080/",
          "height": 1000
        },
        "id": "WBumFsXyoZd4",
        "outputId": "20390c64-35ef-4ac3-b84f-265dff08e2b4"
      },
      "execution_count": null,
      "outputs": [
        {
          "output_type": "execute_result",
          "data": {
            "text/plain": [
              "      yieldpercol           \n",
              "             mean        std\n",
              "state                       \n",
              "AL      63.100000  13.474733\n",
              "AR      72.600000  12.089143\n",
              "AZ      55.550000  10.947122\n",
              "CA      50.800000  15.619152\n",
              "CO      57.800000  14.248176\n",
              "FL      75.700000  18.840326\n",
              "GA      52.150000  10.737416\n",
              "HI      99.600000  19.252888\n",
              "IA      61.650000  13.592858\n",
              "ID      41.800000   9.076285\n",
              "IL      58.350000  13.168043\n",
              "IN      59.300000  13.440316\n",
              "KS      56.250000  12.489469\n",
              "KY      50.000000  10.321159\n",
              "LA      94.200000  12.788152\n",
              "MD      45.000000   1.673320\n",
              "ME      33.500000   9.406045\n",
              "MI      65.150000  10.373423\n",
              "MN      71.050000   9.955030\n",
              "MO      53.700000   9.021028\n",
              "MS      89.400000  17.233383\n",
              "MT      78.700000  15.714894\n",
              "NC      46.050000   6.652859\n",
              "ND      85.100000  15.937047\n",
              "NE      65.200000  12.622453\n",
              "NJ      35.500000   8.792940\n",
              "NM      53.866667   8.617811\n",
              "NV      45.181818  12.188668\n",
              "NY      65.750000  11.710881\n",
              "OH      63.050000  10.630022\n",
              "OK      46.333333   6.282250\n",
              "OR      42.700000   7.182581\n",
              "PA      49.800000   7.844542\n",
              "SC      57.714286  20.838380\n",
              "SD      73.700000  20.741771\n",
              "TN      55.400000   7.802833\n",
              "TX      69.850000   8.286165\n",
              "UT      43.250000  11.059052\n",
              "VA      39.500000   4.084631\n",
              "VT      63.100000  13.837021\n",
              "WA      46.950000   7.308791\n",
              "WI      74.500000  13.212833\n",
              "WV      45.600000   8.768364\n",
              "WY      65.850000  14.198869"
            ],
            "text/html": [
              "\n",
              "  <div id=\"df-7109077e-8611-402d-8c71-83cdcf15d800\">\n",
              "    <div class=\"colab-df-container\">\n",
              "      <div>\n",
              "<style scoped>\n",
              "    .dataframe tbody tr th:only-of-type {\n",
              "        vertical-align: middle;\n",
              "    }\n",
              "\n",
              "    .dataframe tbody tr th {\n",
              "        vertical-align: top;\n",
              "    }\n",
              "\n",
              "    .dataframe thead tr th {\n",
              "        text-align: left;\n",
              "    }\n",
              "\n",
              "    .dataframe thead tr:last-of-type th {\n",
              "        text-align: right;\n",
              "    }\n",
              "</style>\n",
              "<table border=\"1\" class=\"dataframe\">\n",
              "  <thead>\n",
              "    <tr>\n",
              "      <th></th>\n",
              "      <th colspan=\"2\" halign=\"left\">yieldpercol</th>\n",
              "    </tr>\n",
              "    <tr>\n",
              "      <th></th>\n",
              "      <th>mean</th>\n",
              "      <th>std</th>\n",
              "    </tr>\n",
              "    <tr>\n",
              "      <th>state</th>\n",
              "      <th></th>\n",
              "      <th></th>\n",
              "    </tr>\n",
              "  </thead>\n",
              "  <tbody>\n",
              "    <tr>\n",
              "      <th>AL</th>\n",
              "      <td>63.100000</td>\n",
              "      <td>13.474733</td>\n",
              "    </tr>\n",
              "    <tr>\n",
              "      <th>AR</th>\n",
              "      <td>72.600000</td>\n",
              "      <td>12.089143</td>\n",
              "    </tr>\n",
              "    <tr>\n",
              "      <th>AZ</th>\n",
              "      <td>55.550000</td>\n",
              "      <td>10.947122</td>\n",
              "    </tr>\n",
              "    <tr>\n",
              "      <th>CA</th>\n",
              "      <td>50.800000</td>\n",
              "      <td>15.619152</td>\n",
              "    </tr>\n",
              "    <tr>\n",
              "      <th>CO</th>\n",
              "      <td>57.800000</td>\n",
              "      <td>14.248176</td>\n",
              "    </tr>\n",
              "    <tr>\n",
              "      <th>FL</th>\n",
              "      <td>75.700000</td>\n",
              "      <td>18.840326</td>\n",
              "    </tr>\n",
              "    <tr>\n",
              "      <th>GA</th>\n",
              "      <td>52.150000</td>\n",
              "      <td>10.737416</td>\n",
              "    </tr>\n",
              "    <tr>\n",
              "      <th>HI</th>\n",
              "      <td>99.600000</td>\n",
              "      <td>19.252888</td>\n",
              "    </tr>\n",
              "    <tr>\n",
              "      <th>IA</th>\n",
              "      <td>61.650000</td>\n",
              "      <td>13.592858</td>\n",
              "    </tr>\n",
              "    <tr>\n",
              "      <th>ID</th>\n",
              "      <td>41.800000</td>\n",
              "      <td>9.076285</td>\n",
              "    </tr>\n",
              "    <tr>\n",
              "      <th>IL</th>\n",
              "      <td>58.350000</td>\n",
              "      <td>13.168043</td>\n",
              "    </tr>\n",
              "    <tr>\n",
              "      <th>IN</th>\n",
              "      <td>59.300000</td>\n",
              "      <td>13.440316</td>\n",
              "    </tr>\n",
              "    <tr>\n",
              "      <th>KS</th>\n",
              "      <td>56.250000</td>\n",
              "      <td>12.489469</td>\n",
              "    </tr>\n",
              "    <tr>\n",
              "      <th>KY</th>\n",
              "      <td>50.000000</td>\n",
              "      <td>10.321159</td>\n",
              "    </tr>\n",
              "    <tr>\n",
              "      <th>LA</th>\n",
              "      <td>94.200000</td>\n",
              "      <td>12.788152</td>\n",
              "    </tr>\n",
              "    <tr>\n",
              "      <th>MD</th>\n",
              "      <td>45.000000</td>\n",
              "      <td>1.673320</td>\n",
              "    </tr>\n",
              "    <tr>\n",
              "      <th>ME</th>\n",
              "      <td>33.500000</td>\n",
              "      <td>9.406045</td>\n",
              "    </tr>\n",
              "    <tr>\n",
              "      <th>MI</th>\n",
              "      <td>65.150000</td>\n",
              "      <td>10.373423</td>\n",
              "    </tr>\n",
              "    <tr>\n",
              "      <th>MN</th>\n",
              "      <td>71.050000</td>\n",
              "      <td>9.955030</td>\n",
              "    </tr>\n",
              "    <tr>\n",
              "      <th>MO</th>\n",
              "      <td>53.700000</td>\n",
              "      <td>9.021028</td>\n",
              "    </tr>\n",
              "    <tr>\n",
              "      <th>MS</th>\n",
              "      <td>89.400000</td>\n",
              "      <td>17.233383</td>\n",
              "    </tr>\n",
              "    <tr>\n",
              "      <th>MT</th>\n",
              "      <td>78.700000</td>\n",
              "      <td>15.714894</td>\n",
              "    </tr>\n",
              "    <tr>\n",
              "      <th>NC</th>\n",
              "      <td>46.050000</td>\n",
              "      <td>6.652859</td>\n",
              "    </tr>\n",
              "    <tr>\n",
              "      <th>ND</th>\n",
              "      <td>85.100000</td>\n",
              "      <td>15.937047</td>\n",
              "    </tr>\n",
              "    <tr>\n",
              "      <th>NE</th>\n",
              "      <td>65.200000</td>\n",
              "      <td>12.622453</td>\n",
              "    </tr>\n",
              "    <tr>\n",
              "      <th>NJ</th>\n",
              "      <td>35.500000</td>\n",
              "      <td>8.792940</td>\n",
              "    </tr>\n",
              "    <tr>\n",
              "      <th>NM</th>\n",
              "      <td>53.866667</td>\n",
              "      <td>8.617811</td>\n",
              "    </tr>\n",
              "    <tr>\n",
              "      <th>NV</th>\n",
              "      <td>45.181818</td>\n",
              "      <td>12.188668</td>\n",
              "    </tr>\n",
              "    <tr>\n",
              "      <th>NY</th>\n",
              "      <td>65.750000</td>\n",
              "      <td>11.710881</td>\n",
              "    </tr>\n",
              "    <tr>\n",
              "      <th>OH</th>\n",
              "      <td>63.050000</td>\n",
              "      <td>10.630022</td>\n",
              "    </tr>\n",
              "    <tr>\n",
              "      <th>OK</th>\n",
              "      <td>46.333333</td>\n",
              "      <td>6.282250</td>\n",
              "    </tr>\n",
              "    <tr>\n",
              "      <th>OR</th>\n",
              "      <td>42.700000</td>\n",
              "      <td>7.182581</td>\n",
              "    </tr>\n",
              "    <tr>\n",
              "      <th>PA</th>\n",
              "      <td>49.800000</td>\n",
              "      <td>7.844542</td>\n",
              "    </tr>\n",
              "    <tr>\n",
              "      <th>SC</th>\n",
              "      <td>57.714286</td>\n",
              "      <td>20.838380</td>\n",
              "    </tr>\n",
              "    <tr>\n",
              "      <th>SD</th>\n",
              "      <td>73.700000</td>\n",
              "      <td>20.741771</td>\n",
              "    </tr>\n",
              "    <tr>\n",
              "      <th>TN</th>\n",
              "      <td>55.400000</td>\n",
              "      <td>7.802833</td>\n",
              "    </tr>\n",
              "    <tr>\n",
              "      <th>TX</th>\n",
              "      <td>69.850000</td>\n",
              "      <td>8.286165</td>\n",
              "    </tr>\n",
              "    <tr>\n",
              "      <th>UT</th>\n",
              "      <td>43.250000</td>\n",
              "      <td>11.059052</td>\n",
              "    </tr>\n",
              "    <tr>\n",
              "      <th>VA</th>\n",
              "      <td>39.500000</td>\n",
              "      <td>4.084631</td>\n",
              "    </tr>\n",
              "    <tr>\n",
              "      <th>VT</th>\n",
              "      <td>63.100000</td>\n",
              "      <td>13.837021</td>\n",
              "    </tr>\n",
              "    <tr>\n",
              "      <th>WA</th>\n",
              "      <td>46.950000</td>\n",
              "      <td>7.308791</td>\n",
              "    </tr>\n",
              "    <tr>\n",
              "      <th>WI</th>\n",
              "      <td>74.500000</td>\n",
              "      <td>13.212833</td>\n",
              "    </tr>\n",
              "    <tr>\n",
              "      <th>WV</th>\n",
              "      <td>45.600000</td>\n",
              "      <td>8.768364</td>\n",
              "    </tr>\n",
              "    <tr>\n",
              "      <th>WY</th>\n",
              "      <td>65.850000</td>\n",
              "      <td>14.198869</td>\n",
              "    </tr>\n",
              "  </tbody>\n",
              "</table>\n",
              "</div>\n",
              "      <button class=\"colab-df-convert\" onclick=\"convertToInteractive('df-7109077e-8611-402d-8c71-83cdcf15d800')\"\n",
              "              title=\"Convert this dataframe to an interactive table.\"\n",
              "              style=\"display:none;\">\n",
              "        \n",
              "  <svg xmlns=\"http://www.w3.org/2000/svg\" height=\"24px\"viewBox=\"0 0 24 24\"\n",
              "       width=\"24px\">\n",
              "    <path d=\"M0 0h24v24H0V0z\" fill=\"none\"/>\n",
              "    <path d=\"M18.56 5.44l.94 2.06.94-2.06 2.06-.94-2.06-.94-.94-2.06-.94 2.06-2.06.94zm-11 1L8.5 8.5l.94-2.06 2.06-.94-2.06-.94L8.5 2.5l-.94 2.06-2.06.94zm10 10l.94 2.06.94-2.06 2.06-.94-2.06-.94-.94-2.06-.94 2.06-2.06.94z\"/><path d=\"M17.41 7.96l-1.37-1.37c-.4-.4-.92-.59-1.43-.59-.52 0-1.04.2-1.43.59L10.3 9.45l-7.72 7.72c-.78.78-.78 2.05 0 2.83L4 21.41c.39.39.9.59 1.41.59.51 0 1.02-.2 1.41-.59l7.78-7.78 2.81-2.81c.8-.78.8-2.07 0-2.86zM5.41 20L4 18.59l7.72-7.72 1.47 1.35L5.41 20z\"/>\n",
              "  </svg>\n",
              "      </button>\n",
              "      \n",
              "  <style>\n",
              "    .colab-df-container {\n",
              "      display:flex;\n",
              "      flex-wrap:wrap;\n",
              "      gap: 12px;\n",
              "    }\n",
              "\n",
              "    .colab-df-convert {\n",
              "      background-color: #E8F0FE;\n",
              "      border: none;\n",
              "      border-radius: 50%;\n",
              "      cursor: pointer;\n",
              "      display: none;\n",
              "      fill: #1967D2;\n",
              "      height: 32px;\n",
              "      padding: 0 0 0 0;\n",
              "      width: 32px;\n",
              "    }\n",
              "\n",
              "    .colab-df-convert:hover {\n",
              "      background-color: #E2EBFA;\n",
              "      box-shadow: 0px 1px 2px rgba(60, 64, 67, 0.3), 0px 1px 3px 1px rgba(60, 64, 67, 0.15);\n",
              "      fill: #174EA6;\n",
              "    }\n",
              "\n",
              "    [theme=dark] .colab-df-convert {\n",
              "      background-color: #3B4455;\n",
              "      fill: #D2E3FC;\n",
              "    }\n",
              "\n",
              "    [theme=dark] .colab-df-convert:hover {\n",
              "      background-color: #434B5C;\n",
              "      box-shadow: 0px 1px 3px 1px rgba(0, 0, 0, 0.15);\n",
              "      filter: drop-shadow(0px 1px 2px rgba(0, 0, 0, 0.3));\n",
              "      fill: #FFFFFF;\n",
              "    }\n",
              "  </style>\n",
              "\n",
              "      <script>\n",
              "        const buttonEl =\n",
              "          document.querySelector('#df-7109077e-8611-402d-8c71-83cdcf15d800 button.colab-df-convert');\n",
              "        buttonEl.style.display =\n",
              "          google.colab.kernel.accessAllowed ? 'block' : 'none';\n",
              "\n",
              "        async function convertToInteractive(key) {\n",
              "          const element = document.querySelector('#df-7109077e-8611-402d-8c71-83cdcf15d800');\n",
              "          const dataTable =\n",
              "            await google.colab.kernel.invokeFunction('convertToInteractive',\n",
              "                                                     [key], {});\n",
              "          if (!dataTable) return;\n",
              "\n",
              "          const docLinkHtml = 'Like what you see? Visit the ' +\n",
              "            '<a target=\"_blank\" href=https://colab.research.google.com/notebooks/data_table.ipynb>data table notebook</a>'\n",
              "            + ' to learn more about interactive tables.';\n",
              "          element.innerHTML = '';\n",
              "          dataTable['output_type'] = 'display_data';\n",
              "          await google.colab.output.renderOutput(dataTable, element);\n",
              "          const docLink = document.createElement('div');\n",
              "          docLink.innerHTML = docLinkHtml;\n",
              "          element.appendChild(docLink);\n",
              "        }\n",
              "      </script>\n",
              "    </div>\n",
              "  </div>\n",
              "  "
            ]
          },
          "metadata": {},
          "execution_count": 63
        }
      ]
    },
    {
      "cell_type": "markdown",
      "source": [
        "## Pulling in Matt's training matrices"
      ],
      "metadata": {
        "id": "6VVd5Ds-a-8E"
      }
    },
    {
      "cell_type": "code",
      "source": [
        "df = pd.read_csv(os.path.join(path, 'Final Data/DF_DROPPED_COLS.csv'))"
      ],
      "metadata": {
        "id": "cXPDjUrpWezS"
      },
      "execution_count": null,
      "outputs": []
    },
    {
      "cell_type": "code",
      "source": [
        "df.info()"
      ],
      "metadata": {
        "id": "iAgrtQI8dFQM",
        "outputId": "b7e72540-6bcd-48d3-d920-c38173ef3cd8",
        "colab": {
          "base_uri": "https://localhost:8080/"
        }
      },
      "execution_count": null,
      "outputs": [
        {
          "output_type": "stream",
          "name": "stdout",
          "text": [
            "<class 'pandas.core.frame.DataFrame'>\n",
            "RangeIndex: 825 entries, 0 to 824\n",
            "Columns: 119 entries, year to Region_West\n",
            "dtypes: float64(69), int64(50)\n",
            "memory usage: 767.1 KB\n"
          ]
        }
      ]
    },
    {
      "cell_type": "code",
      "source": [
        "df_train = df[\n",
        "  df.year < 2016\n",
        "]"
      ],
      "metadata": {
        "id": "E1jtJtv6KqWO"
      },
      "execution_count": null,
      "outputs": []
    },
    {
      "cell_type": "code",
      "source": [
        "state_names = [i[10:] for i in df_train.columns if i[:9] == 'StateName']"
      ],
      "metadata": {
        "id": "zW2Jte5_LG0K"
      },
      "execution_count": null,
      "outputs": []
    },
    {
      "cell_type": "markdown",
      "source": [
        "### Selecting columns for simulation"
      ],
      "metadata": {
        "id": "t1YCi_-9E06c"
      }
    },
    {
      "cell_type": "code",
      "source": [
        "df_train.columns[:30]"
      ],
      "metadata": {
        "id": "YQq64wEDw2JM",
        "colab": {
          "base_uri": "https://localhost:8080/"
        },
        "outputId": "31d66e22-1940-456e-9bda-02573a3c4f4a"
      },
      "execution_count": null,
      "outputs": [
        {
          "output_type": "execute_result",
          "data": {
            "text/plain": [
              "Index(['year', 'numcol', 'yieldpercol', 'nCLOTHIANIDIN', 'nIMIDACLOPRID',\n",
              "       'nTHIAMETHOXAM', 'nACETAMIPRID', 'nTHIACLOPRID', 'nAllNeonic',\n",
              "       'prevyear_nCLOTHIANIDIN', 'prevyear_nIMIDACLOPRID',\n",
              "       'prevyear_nTHIAMETHOXAM', 'prevyear_nACETAMIPRID',\n",
              "       'prevyear_nTHIACLOPRID', 'NorthDakota_PrevYear', 'prevyearyield',\n",
              "       'avg_temp', 'anomaly', 'varroa', 'spores', 'cbpv_max', 'dwv_max',\n",
              "       'iapv_max', 'kbv_max', 'sbpv_max', 'abpv_max', 'dwv-b_max', 'lsv2_max',\n",
              "       'mkv_max', 'cbpv_prob'],\n",
              "      dtype='object')"
            ]
          },
          "metadata": {},
          "execution_count": 92
        }
      ]
    },
    {
      "cell_type": "code",
      "source": [
        "df_train.columns[30:60]"
      ],
      "metadata": {
        "colab": {
          "base_uri": "https://localhost:8080/"
        },
        "id": "Dl-B6hrJFHBo",
        "outputId": "4f026ac3-e34d-411d-d45a-6920e59709ea"
      },
      "execution_count": null,
      "outputs": [
        {
          "output_type": "execute_result",
          "data": {
            "text/plain": [
              "Index(['dwv_prob', 'iapv_prob', 'kbv_prob', 'sbpv_prob', 'abpv_prob',\n",
              "       'dwv-b_prob', 'lsv2_prob', 'mkv_prob', 'prevyearspores',\n",
              "       'prevyearvarroa', 'urbanicity', 'Prev_Days_with_AQI', 'Prev_Good_Days',\n",
              "       'Prev_Moderate_Days', 'Prev_Unhealthy_for_Sensitive_Groups_Days',\n",
              "       'Prev_Unhealthy_Days', 'Prev_Very_Unhealthy_Days',\n",
              "       'Prev_Hazardous_Days', 'Prev_Max_AQI', 'Prev_90th_Percentile_AQI',\n",
              "       'Prev_Median_AQI', 'Prev_Days_CO', 'Prev_Days_NO2', 'Prev_Days_Ozone',\n",
              "       'Prev_Days_PM2.5', 'Prev_Days_PM10', '5_Year_Avg_Days_with_AQI',\n",
              "       '5_Year_Avg_Good_Days', '5_Year_Avg_Moderate_Days',\n",
              "       '5_Year_Avg_Unhealthy_for_Sensitive_Groups_Days'],\n",
              "      dtype='object')"
            ]
          },
          "metadata": {},
          "execution_count": 69
        }
      ]
    },
    {
      "cell_type": "code",
      "source": [
        "df_train.columns[60:90]"
      ],
      "metadata": {
        "colab": {
          "base_uri": "https://localhost:8080/"
        },
        "id": "EVE3pTNuFImi",
        "outputId": "a2ee4c55-c1bb-4974-b312-2c6679b8997f"
      },
      "execution_count": null,
      "outputs": [
        {
          "output_type": "execute_result",
          "data": {
            "text/plain": [
              "Index(['5_Year_Avg_Unhealthy_Days', '5_Year_Avg_Very_Unhealthy_Days',\n",
              "       '5_Year_Avg_Hazardous_Days', '5_Year_Avg_Max_AQI',\n",
              "       '5_Year_Avg_90th_Percentile_AQI', '5_Year_Avg_Median_AQI',\n",
              "       '5_Year_Avg_Days_CO', '5_Year_Avg_Days_NO2', '5_Year_Avg_Days_Ozone',\n",
              "       '5_Year_Avg_Days_PM2.5', '5_Year_Avg_Days_PM10', 'StateName_Alabama',\n",
              "       'StateName_Arizona', 'StateName_Arkansas', 'StateName_California',\n",
              "       'StateName_Colorado', 'StateName_Florida', 'StateName_Georgia',\n",
              "       'StateName_Hawaii', 'StateName_Idaho', 'StateName_Illinois',\n",
              "       'StateName_Indiana', 'StateName_Iowa', 'StateName_Kansas',\n",
              "       'StateName_Kentucky', 'StateName_Louisiana', 'StateName_Maine',\n",
              "       'StateName_Maryland', 'StateName_Michigan', 'StateName_Minnesota'],\n",
              "      dtype='object')"
            ]
          },
          "metadata": {},
          "execution_count": 70
        }
      ]
    },
    {
      "cell_type": "code",
      "source": [
        "df_train.columns[90:]"
      ],
      "metadata": {
        "colab": {
          "base_uri": "https://localhost:8080/"
        },
        "id": "y2-O9BGOFJyd",
        "outputId": "e34c64af-b03b-4dea-dd23-248219df928a"
      },
      "execution_count": null,
      "outputs": [
        {
          "output_type": "execute_result",
          "data": {
            "text/plain": [
              "Index(['StateName_Mississippi', 'StateName_Missouri', 'StateName_Montana',\n",
              "       'StateName_Nebraska', 'StateName_Nevada', 'StateName_New_Jersey',\n",
              "       'StateName_New_Mexico', 'StateName_New_York',\n",
              "       'StateName_North_Carolina', 'StateName_North_Dakota', 'StateName_Ohio',\n",
              "       'StateName_Oklahoma', 'StateName_Oregon', 'StateName_Pennsylvania',\n",
              "       'StateName_South_Carolina', 'StateName_South_Dakota',\n",
              "       'StateName_Tennessee', 'StateName_Texas', 'StateName_Utah',\n",
              "       'StateName_Vermont', 'StateName_Virginia', 'StateName_Washington',\n",
              "       'StateName_West_Virginia', 'StateName_Wisconsin', 'StateName_Wyoming',\n",
              "       'Region_Midwest', 'Region_Northeast', 'Region_South', 'Region_West'],\n",
              "      dtype='object')"
            ]
          },
          "metadata": {},
          "execution_count": 71
        }
      ]
    },
    {
      "cell_type": "code",
      "source": [
        "X_train_preproc = df_train[[\n",
        "  'prevyear_nCLOTHIANIDIN', 'prevyear_nIMIDACLOPRID',\n",
        "  'prevyear_nTHIAMETHOXAM', 'prevyear_nACETAMIPRID',\n",
        "  'prevyear_nTHIACLOPRID', 'NorthDakota_PrevYear', 'prevyearyield',\n",
        "  'avg_temp', 'anomaly', 'varroa', 'spores', 'cbpv_max', 'dwv_max',\n",
        "  'iapv_max', 'kbv_max', 'sbpv_max', 'abpv_max', 'dwv-b_max', 'lsv2_max',\n",
        "  'mkv_max', 'cbpv_prob', 'dwv_prob', 'iapv_prob', 'kbv_prob', 'sbpv_prob',\n",
        "  'abpv_prob', 'dwv-b_prob', 'lsv2_prob', 'mkv_prob', 'prevyearspores',\n",
        "  'prevyearvarroa', 'urbanicity', 'Prev_Days_with_AQI', 'Prev_Good_Days',\n",
        "  'Prev_Moderate_Days', 'Prev_Unhealthy_for_Sensitive_Groups_Days',\n",
        "  'Prev_Unhealthy_Days', 'Prev_Very_Unhealthy_Days',\n",
        "  'Prev_Hazardous_Days', 'Prev_Max_AQI', 'Prev_90th_Percentile_AQI',\n",
        "  'Prev_Median_AQI', 'Prev_Days_CO', 'Prev_Days_NO2', 'Prev_Days_Ozone',\n",
        "  'Prev_Days_PM2.5', 'Prev_Days_PM10', '5_Year_Avg_Days_with_AQI',\n",
        "  '5_Year_Avg_Good_Days', '5_Year_Avg_Moderate_Days',\n",
        "  '5_Year_Avg_Unhealthy_for_Sensitive_Groups_Days',\n",
        "  '5_Year_Avg_Unhealthy_Days', '5_Year_Avg_Very_Unhealthy_Days',\n",
        "  '5_Year_Avg_Hazardous_Days', '5_Year_Avg_Max_AQI',\n",
        "  '5_Year_Avg_90th_Percentile_AQI', '5_Year_Avg_Median_AQI',\n",
        "  '5_Year_Avg_Days_CO', '5_Year_Avg_Days_NO2', '5_Year_Avg_Days_Ozone',\n",
        "  '5_Year_Avg_Days_PM2.5', '5_Year_Avg_Days_PM10', 'StateName_Alabama',\n",
        "  'StateName_Arizona', 'StateName_Arkansas', 'StateName_California',\n",
        "  'StateName_Colorado', 'StateName_Florida', 'StateName_Georgia',\n",
        "  'StateName_Hawaii', 'StateName_Idaho', 'StateName_Illinois',\n",
        "  'StateName_Indiana', 'StateName_Iowa', 'StateName_Kansas',\n",
        "  'StateName_Kentucky', 'StateName_Louisiana', 'StateName_Maine',\n",
        "  'StateName_Maryland', 'StateName_Michigan', 'StateName_Minnesota',\n",
        "  'StateName_Mississippi', 'StateName_Missouri', 'StateName_Montana',\n",
        "  'StateName_Nebraska', 'StateName_Nevada', 'StateName_New_Jersey',\n",
        "  'StateName_New_Mexico', 'StateName_New_York',\n",
        "  'StateName_North_Carolina', 'StateName_North_Dakota', 'StateName_Ohio',\n",
        "  'StateName_Oklahoma', 'StateName_Oregon', 'StateName_Pennsylvania',\n",
        "  'StateName_South_Carolina', 'StateName_South_Dakota',\n",
        "  'StateName_Tennessee', 'StateName_Texas', 'StateName_Utah',\n",
        "  'StateName_Vermont', 'StateName_Virginia', 'StateName_Washington',\n",
        "  'StateName_West_Virginia', 'StateName_Wisconsin', 'StateName_Wyoming'\n",
        "]]"
      ],
      "metadata": {
        "id": "xo3lBKZdFNqx"
      },
      "execution_count": null,
      "outputs": []
    },
    {
      "cell_type": "code",
      "source": [
        "X_train_preproc.columns[61]"
      ],
      "metadata": {
        "colab": {
          "base_uri": "https://localhost:8080/",
          "height": 35
        },
        "id": "RjBFjvu-Q3-g",
        "outputId": "050bcbad-2659-4905-f1bd-41ded4dc90c9"
      },
      "execution_count": null,
      "outputs": [
        {
          "output_type": "execute_result",
          "data": {
            "text/plain": [
              "'5_Year_Avg_Days_PM10'"
            ],
            "application/vnd.google.colaboratory.intrinsic+json": {
              "type": "string"
            }
          },
          "metadata": {},
          "execution_count": 94
        }
      ]
    },
    {
      "cell_type": "code",
      "source": [
        "X_train_preproc.info()"
      ],
      "metadata": {
        "colab": {
          "base_uri": "https://localhost:8080/"
        },
        "id": "ZTVtglcHSESF",
        "outputId": "c468bec1-188c-4149-a7af-a8cdae07abc2"
      },
      "execution_count": null,
      "outputs": [
        {
          "output_type": "stream",
          "name": "stdout",
          "text": [
            "<class 'pandas.core.frame.DataFrame'>\n",
            "Int64Index: 745 entries, 0 to 824\n",
            "Columns: 106 entries, prevyear_nCLOTHIANIDIN to StateName_Wyoming\n",
            "dtypes: float64(62), int64(44)\n",
            "memory usage: 638.9 KB\n"
          ]
        }
      ]
    },
    {
      "cell_type": "code",
      "source": [
        "X_train_preproc[\n",
        "  X_train_preproc.StateName_Alabama == 1\n",
        "].agg(['min','max']).loc['min','prevyear_nCLOTHIANIDIN']"
      ],
      "metadata": {
        "colab": {
          "base_uri": "https://localhost:8080/"
        },
        "id": "OJjXIIyYT1bR",
        "outputId": "b1265a3c-8224-4358-dc3d-cc956a2cdf90"
      },
      "execution_count": null,
      "outputs": [
        {
          "output_type": "execute_result",
          "data": {
            "text/plain": [
              "0.0"
            ]
          },
          "metadata": {},
          "execution_count": 96
        }
      ]
    },
    {
      "cell_type": "code",
      "source": [
        "dist_dict = dict()\n",
        "for state in state_names:\n",
        "  dist_dict[i] = X_train_preproc[\n",
        "    X_train_preproc[f'StateName_{state}'] == 1\n",
        "  ].agg(['min','max'])"
      ],
      "metadata": {
        "id": "Ty9WKGw0Q8AD"
      },
      "execution_count": null,
      "outputs": []
    },
    {
      "cell_type": "code",
      "source": [
        "X_train_preproc.prevyear_nCLOTHIANIDIN.min()"
      ],
      "metadata": {
        "colab": {
          "base_uri": "https://localhost:8080/"
        },
        "id": "2CWhVuTMYoDT",
        "outputId": "947bc23f-4c7a-456f-8677-72bd57ad1119"
      },
      "execution_count": null,
      "outputs": [
        {
          "output_type": "execute_result",
          "data": {
            "text/plain": [
              "0.0"
            ]
          },
          "metadata": {},
          "execution_count": 98
        }
      ]
    },
    {
      "cell_type": "code",
      "source": [
        "dist_dict_by_col = dict()\n",
        "for col in X_train_preproc.columns[:62]:\n",
        "  dist_dict_by_col[col] = dict()\n",
        "  dist_dict_by_col[col]['min'] = X_train_preproc[col].min()\n",
        "  dist_dict_by_col[col]['max'] = X_train_preproc[col].max()\n",
        "  dist_dict_by_col[col]['range'] = \\\n",
        "    dist_dict_by_col[col]['max'] - dist_dict_by_col[col]['min']"
      ],
      "metadata": {
        "id": "0PaqDEpGVdKU"
      },
      "execution_count": null,
      "outputs": []
    },
    {
      "cell_type": "code",
      "source": [
        "df_dict = dict()\n",
        "for col in X_train_preproc.columns[:62]:\n",
        "  data = np.random.rand(1000)\n",
        "  data = data * dist_dict_by_col[col]['range'] + dist_dict_by_col[col]['min']\n",
        "  df_dict[col] = data\n",
        "\n",
        "X_train_sim = pd.DataFrame(df_dict)\n",
        "X_train_sim.head()"
      ],
      "metadata": {
        "colab": {
          "base_uri": "https://localhost:8080/",
          "height": 299
        },
        "id": "JkBW2XpNZHl4",
        "outputId": "11a7e7c0-c828-410b-afc5-1329aa7c11ec"
      },
      "execution_count": null,
      "outputs": [
        {
          "output_type": "execute_result",
          "data": {
            "text/plain": [
              "   prevyear_nCLOTHIANIDIN  prevyear_nIMIDACLOPRID  prevyear_nTHIAMETHOXAM  \\\n",
              "0           226710.386667            56014.621656            26243.246836   \n",
              "1            38422.402384            92592.596270            41656.115833   \n",
              "2           253908.686681            51276.083748            14848.136064   \n",
              "3            94501.775203            19269.983173            49598.150061   \n",
              "4            40562.998510            67180.051624            63278.979780   \n",
              "\n",
              "   prevyear_nACETAMIPRID  prevyear_nTHIACLOPRID  NorthDakota_PrevYear  \\\n",
              "0           19835.551396             475.636836             69.140253   \n",
              "1           12253.662711            1187.668978            112.933950   \n",
              "2           27439.762869            3809.415602             89.834218   \n",
              "3           29305.160074            1765.868572            105.424183   \n",
              "4           33538.710382            3008.565415             86.401196   \n",
              "\n",
              "   prevyearyield   avg_temp   anomaly     varroa  ...  \\\n",
              "0      39.804947  48.387141 -2.744263   2.031025  ...   \n",
              "1      34.729234  72.095717  1.264414   3.564295  ...   \n",
              "2      89.308715  62.677457  0.766943  12.870239  ...   \n",
              "3      41.793347  41.538898  5.005923   4.691299  ...   \n",
              "4      71.394942  50.591398  4.310897   0.597074  ...   \n",
              "\n",
              "   5_Year_Avg_Very_Unhealthy_Days  5_Year_Avg_Hazardous_Days  \\\n",
              "0                        2.747621                   0.778161   \n",
              "1                        2.400501                   0.932432   \n",
              "2                        0.853313                   0.459536   \n",
              "3                        4.238424                   1.028156   \n",
              "4                        2.416468                   0.174459   \n",
              "\n",
              "   5_Year_Avg_Max_AQI  5_Year_Avg_90th_Percentile_AQI  5_Year_Avg_Median_AQI  \\\n",
              "0         3495.669436                       32.171617              42.602836   \n",
              "1         8757.048528                       82.056160              22.963841   \n",
              "2         2466.978527                       33.723847              40.097238   \n",
              "3         3338.761950                       62.948033              41.403348   \n",
              "4         8429.537719                       51.778735              37.566147   \n",
              "\n",
              "   5_Year_Avg_Days_CO  5_Year_Avg_Days_NO2  5_Year_Avg_Days_Ozone  \\\n",
              "0           89.221171            38.557229               6.970955   \n",
              "1           59.798279            88.737241             198.643217   \n",
              "2          109.544687            93.363120             153.180414   \n",
              "3           73.942030            17.096102             229.023691   \n",
              "4           70.916395            38.289565              76.765151   \n",
              "\n",
              "   5_Year_Avg_Days_PM2.5  5_Year_Avg_Days_PM10  \n",
              "0              94.837579            166.756113  \n",
              "1             277.461977             47.059972  \n",
              "2             305.627833            166.650018  \n",
              "3             174.755961             65.870953  \n",
              "4             119.426540             83.411512  \n",
              "\n",
              "[5 rows x 62 columns]"
            ],
            "text/html": [
              "\n",
              "  <div id=\"df-49ca1f2f-1504-411a-8460-c046520a7122\">\n",
              "    <div class=\"colab-df-container\">\n",
              "      <div>\n",
              "<style scoped>\n",
              "    .dataframe tbody tr th:only-of-type {\n",
              "        vertical-align: middle;\n",
              "    }\n",
              "\n",
              "    .dataframe tbody tr th {\n",
              "        vertical-align: top;\n",
              "    }\n",
              "\n",
              "    .dataframe thead th {\n",
              "        text-align: right;\n",
              "    }\n",
              "</style>\n",
              "<table border=\"1\" class=\"dataframe\">\n",
              "  <thead>\n",
              "    <tr style=\"text-align: right;\">\n",
              "      <th></th>\n",
              "      <th>prevyear_nCLOTHIANIDIN</th>\n",
              "      <th>prevyear_nIMIDACLOPRID</th>\n",
              "      <th>prevyear_nTHIAMETHOXAM</th>\n",
              "      <th>prevyear_nACETAMIPRID</th>\n",
              "      <th>prevyear_nTHIACLOPRID</th>\n",
              "      <th>NorthDakota_PrevYear</th>\n",
              "      <th>prevyearyield</th>\n",
              "      <th>avg_temp</th>\n",
              "      <th>anomaly</th>\n",
              "      <th>varroa</th>\n",
              "      <th>...</th>\n",
              "      <th>5_Year_Avg_Very_Unhealthy_Days</th>\n",
              "      <th>5_Year_Avg_Hazardous_Days</th>\n",
              "      <th>5_Year_Avg_Max_AQI</th>\n",
              "      <th>5_Year_Avg_90th_Percentile_AQI</th>\n",
              "      <th>5_Year_Avg_Median_AQI</th>\n",
              "      <th>5_Year_Avg_Days_CO</th>\n",
              "      <th>5_Year_Avg_Days_NO2</th>\n",
              "      <th>5_Year_Avg_Days_Ozone</th>\n",
              "      <th>5_Year_Avg_Days_PM2.5</th>\n",
              "      <th>5_Year_Avg_Days_PM10</th>\n",
              "    </tr>\n",
              "  </thead>\n",
              "  <tbody>\n",
              "    <tr>\n",
              "      <th>0</th>\n",
              "      <td>226710.386667</td>\n",
              "      <td>56014.621656</td>\n",
              "      <td>26243.246836</td>\n",
              "      <td>19835.551396</td>\n",
              "      <td>475.636836</td>\n",
              "      <td>69.140253</td>\n",
              "      <td>39.804947</td>\n",
              "      <td>48.387141</td>\n",
              "      <td>-2.744263</td>\n",
              "      <td>2.031025</td>\n",
              "      <td>...</td>\n",
              "      <td>2.747621</td>\n",
              "      <td>0.778161</td>\n",
              "      <td>3495.669436</td>\n",
              "      <td>32.171617</td>\n",
              "      <td>42.602836</td>\n",
              "      <td>89.221171</td>\n",
              "      <td>38.557229</td>\n",
              "      <td>6.970955</td>\n",
              "      <td>94.837579</td>\n",
              "      <td>166.756113</td>\n",
              "    </tr>\n",
              "    <tr>\n",
              "      <th>1</th>\n",
              "      <td>38422.402384</td>\n",
              "      <td>92592.596270</td>\n",
              "      <td>41656.115833</td>\n",
              "      <td>12253.662711</td>\n",
              "      <td>1187.668978</td>\n",
              "      <td>112.933950</td>\n",
              "      <td>34.729234</td>\n",
              "      <td>72.095717</td>\n",
              "      <td>1.264414</td>\n",
              "      <td>3.564295</td>\n",
              "      <td>...</td>\n",
              "      <td>2.400501</td>\n",
              "      <td>0.932432</td>\n",
              "      <td>8757.048528</td>\n",
              "      <td>82.056160</td>\n",
              "      <td>22.963841</td>\n",
              "      <td>59.798279</td>\n",
              "      <td>88.737241</td>\n",
              "      <td>198.643217</td>\n",
              "      <td>277.461977</td>\n",
              "      <td>47.059972</td>\n",
              "    </tr>\n",
              "    <tr>\n",
              "      <th>2</th>\n",
              "      <td>253908.686681</td>\n",
              "      <td>51276.083748</td>\n",
              "      <td>14848.136064</td>\n",
              "      <td>27439.762869</td>\n",
              "      <td>3809.415602</td>\n",
              "      <td>89.834218</td>\n",
              "      <td>89.308715</td>\n",
              "      <td>62.677457</td>\n",
              "      <td>0.766943</td>\n",
              "      <td>12.870239</td>\n",
              "      <td>...</td>\n",
              "      <td>0.853313</td>\n",
              "      <td>0.459536</td>\n",
              "      <td>2466.978527</td>\n",
              "      <td>33.723847</td>\n",
              "      <td>40.097238</td>\n",
              "      <td>109.544687</td>\n",
              "      <td>93.363120</td>\n",
              "      <td>153.180414</td>\n",
              "      <td>305.627833</td>\n",
              "      <td>166.650018</td>\n",
              "    </tr>\n",
              "    <tr>\n",
              "      <th>3</th>\n",
              "      <td>94501.775203</td>\n",
              "      <td>19269.983173</td>\n",
              "      <td>49598.150061</td>\n",
              "      <td>29305.160074</td>\n",
              "      <td>1765.868572</td>\n",
              "      <td>105.424183</td>\n",
              "      <td>41.793347</td>\n",
              "      <td>41.538898</td>\n",
              "      <td>5.005923</td>\n",
              "      <td>4.691299</td>\n",
              "      <td>...</td>\n",
              "      <td>4.238424</td>\n",
              "      <td>1.028156</td>\n",
              "      <td>3338.761950</td>\n",
              "      <td>62.948033</td>\n",
              "      <td>41.403348</td>\n",
              "      <td>73.942030</td>\n",
              "      <td>17.096102</td>\n",
              "      <td>229.023691</td>\n",
              "      <td>174.755961</td>\n",
              "      <td>65.870953</td>\n",
              "    </tr>\n",
              "    <tr>\n",
              "      <th>4</th>\n",
              "      <td>40562.998510</td>\n",
              "      <td>67180.051624</td>\n",
              "      <td>63278.979780</td>\n",
              "      <td>33538.710382</td>\n",
              "      <td>3008.565415</td>\n",
              "      <td>86.401196</td>\n",
              "      <td>71.394942</td>\n",
              "      <td>50.591398</td>\n",
              "      <td>4.310897</td>\n",
              "      <td>0.597074</td>\n",
              "      <td>...</td>\n",
              "      <td>2.416468</td>\n",
              "      <td>0.174459</td>\n",
              "      <td>8429.537719</td>\n",
              "      <td>51.778735</td>\n",
              "      <td>37.566147</td>\n",
              "      <td>70.916395</td>\n",
              "      <td>38.289565</td>\n",
              "      <td>76.765151</td>\n",
              "      <td>119.426540</td>\n",
              "      <td>83.411512</td>\n",
              "    </tr>\n",
              "  </tbody>\n",
              "</table>\n",
              "<p>5 rows × 62 columns</p>\n",
              "</div>\n",
              "      <button class=\"colab-df-convert\" onclick=\"convertToInteractive('df-49ca1f2f-1504-411a-8460-c046520a7122')\"\n",
              "              title=\"Convert this dataframe to an interactive table.\"\n",
              "              style=\"display:none;\">\n",
              "        \n",
              "  <svg xmlns=\"http://www.w3.org/2000/svg\" height=\"24px\"viewBox=\"0 0 24 24\"\n",
              "       width=\"24px\">\n",
              "    <path d=\"M0 0h24v24H0V0z\" fill=\"none\"/>\n",
              "    <path d=\"M18.56 5.44l.94 2.06.94-2.06 2.06-.94-2.06-.94-.94-2.06-.94 2.06-2.06.94zm-11 1L8.5 8.5l.94-2.06 2.06-.94-2.06-.94L8.5 2.5l-.94 2.06-2.06.94zm10 10l.94 2.06.94-2.06 2.06-.94-2.06-.94-.94-2.06-.94 2.06-2.06.94z\"/><path d=\"M17.41 7.96l-1.37-1.37c-.4-.4-.92-.59-1.43-.59-.52 0-1.04.2-1.43.59L10.3 9.45l-7.72 7.72c-.78.78-.78 2.05 0 2.83L4 21.41c.39.39.9.59 1.41.59.51 0 1.02-.2 1.41-.59l7.78-7.78 2.81-2.81c.8-.78.8-2.07 0-2.86zM5.41 20L4 18.59l7.72-7.72 1.47 1.35L5.41 20z\"/>\n",
              "  </svg>\n",
              "      </button>\n",
              "      \n",
              "  <style>\n",
              "    .colab-df-container {\n",
              "      display:flex;\n",
              "      flex-wrap:wrap;\n",
              "      gap: 12px;\n",
              "    }\n",
              "\n",
              "    .colab-df-convert {\n",
              "      background-color: #E8F0FE;\n",
              "      border: none;\n",
              "      border-radius: 50%;\n",
              "      cursor: pointer;\n",
              "      display: none;\n",
              "      fill: #1967D2;\n",
              "      height: 32px;\n",
              "      padding: 0 0 0 0;\n",
              "      width: 32px;\n",
              "    }\n",
              "\n",
              "    .colab-df-convert:hover {\n",
              "      background-color: #E2EBFA;\n",
              "      box-shadow: 0px 1px 2px rgba(60, 64, 67, 0.3), 0px 1px 3px 1px rgba(60, 64, 67, 0.15);\n",
              "      fill: #174EA6;\n",
              "    }\n",
              "\n",
              "    [theme=dark] .colab-df-convert {\n",
              "      background-color: #3B4455;\n",
              "      fill: #D2E3FC;\n",
              "    }\n",
              "\n",
              "    [theme=dark] .colab-df-convert:hover {\n",
              "      background-color: #434B5C;\n",
              "      box-shadow: 0px 1px 3px 1px rgba(0, 0, 0, 0.15);\n",
              "      filter: drop-shadow(0px 1px 2px rgba(0, 0, 0, 0.3));\n",
              "      fill: #FFFFFF;\n",
              "    }\n",
              "  </style>\n",
              "\n",
              "      <script>\n",
              "        const buttonEl =\n",
              "          document.querySelector('#df-49ca1f2f-1504-411a-8460-c046520a7122 button.colab-df-convert');\n",
              "        buttonEl.style.display =\n",
              "          google.colab.kernel.accessAllowed ? 'block' : 'none';\n",
              "\n",
              "        async function convertToInteractive(key) {\n",
              "          const element = document.querySelector('#df-49ca1f2f-1504-411a-8460-c046520a7122');\n",
              "          const dataTable =\n",
              "            await google.colab.kernel.invokeFunction('convertToInteractive',\n",
              "                                                     [key], {});\n",
              "          if (!dataTable) return;\n",
              "\n",
              "          const docLinkHtml = 'Like what you see? Visit the ' +\n",
              "            '<a target=\"_blank\" href=https://colab.research.google.com/notebooks/data_table.ipynb>data table notebook</a>'\n",
              "            + ' to learn more about interactive tables.';\n",
              "          element.innerHTML = '';\n",
              "          dataTable['output_type'] = 'display_data';\n",
              "          await google.colab.output.renderOutput(dataTable, element);\n",
              "          const docLink = document.createElement('div');\n",
              "          docLink.innerHTML = docLinkHtml;\n",
              "          element.appendChild(docLink);\n",
              "        }\n",
              "      </script>\n",
              "    </div>\n",
              "  </div>\n",
              "  "
            ]
          },
          "metadata": {},
          "execution_count": 102
        }
      ]
    },
    {
      "cell_type": "code",
      "source": [],
      "metadata": {
        "id": "kzqGvo7IbjJk"
      },
      "execution_count": null,
      "outputs": []
    }
  ]
}