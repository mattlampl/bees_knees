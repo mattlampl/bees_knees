{
 "cells": [
  {
   "cell_type": "code",
   "execution_count": 1,
   "metadata": {
    "id": "E3sUStp3iC8p"
   },
   "outputs": [],
   "source": [
    "import pandas as pd\n",
    "import numpy as np"
   ]
  },
  {
   "cell_type": "code",
   "execution_count": 3,
   "metadata": {
    "id": "yYrzQxrtiC8r",
    "outputId": "93adae06-687a-45a2-cf76-a8edcb9df596"
   },
   "outputs": [
    {
     "data": {
      "text/html": [
       "<div>\n",
       "<style scoped>\n",
       "    .dataframe tbody tr th:only-of-type {\n",
       "        vertical-align: middle;\n",
       "    }\n",
       "\n",
       "    .dataframe tbody tr th {\n",
       "        vertical-align: top;\n",
       "    }\n",
       "\n",
       "    .dataframe thead th {\n",
       "        text-align: right;\n",
       "    }\n",
       "</style>\n",
       "<table border=\"1\" class=\"dataframe\">\n",
       "  <thead>\n",
       "    <tr style=\"text-align: right;\">\n",
       "      <th></th>\n",
       "      <th>state</th>\n",
       "      <th>numcol</th>\n",
       "      <th>yieldpercol</th>\n",
       "      <th>totalprod</th>\n",
       "      <th>stocks</th>\n",
       "      <th>priceperlb</th>\n",
       "      <th>prodvalue</th>\n",
       "      <th>year</th>\n",
       "      <th>StateName</th>\n",
       "      <th>Region</th>\n",
       "      <th>nCLOTHIANIDIN</th>\n",
       "      <th>nIMIDACLOPRID</th>\n",
       "      <th>nTHIAMETHOXAM</th>\n",
       "      <th>nACETAMIPRID</th>\n",
       "      <th>nTHIACLOPRID</th>\n",
       "      <th>nAllNeonic</th>\n",
       "    </tr>\n",
       "  </thead>\n",
       "  <tbody>\n",
       "    <tr>\n",
       "      <th>0</th>\n",
       "      <td>AL</td>\n",
       "      <td>11000.0</td>\n",
       "      <td>56</td>\n",
       "      <td>616000.0</td>\n",
       "      <td>209000.0</td>\n",
       "      <td>1.49</td>\n",
       "      <td>918000.0</td>\n",
       "      <td>2007</td>\n",
       "      <td>Alabama</td>\n",
       "      <td>South</td>\n",
       "      <td>7696.2</td>\n",
       "      <td>3258.1</td>\n",
       "      <td>4149.6</td>\n",
       "      <td>0.0</td>\n",
       "      <td>0.0</td>\n",
       "      <td>15103.9</td>\n",
       "    </tr>\n",
       "    <tr>\n",
       "      <th>1</th>\n",
       "      <td>AL</td>\n",
       "      <td>11000.0</td>\n",
       "      <td>72</td>\n",
       "      <td>792000.0</td>\n",
       "      <td>230000.0</td>\n",
       "      <td>1.21</td>\n",
       "      <td>958000.0</td>\n",
       "      <td>2006</td>\n",
       "      <td>Alabama</td>\n",
       "      <td>South</td>\n",
       "      <td>680.0</td>\n",
       "      <td>4230.2</td>\n",
       "      <td>5371.6</td>\n",
       "      <td>0.0</td>\n",
       "      <td>0.0</td>\n",
       "      <td>10281.8</td>\n",
       "    </tr>\n",
       "    <tr>\n",
       "      <th>2</th>\n",
       "      <td>AL</td>\n",
       "      <td>12000.0</td>\n",
       "      <td>86</td>\n",
       "      <td>1032000.0</td>\n",
       "      <td>103000.0</td>\n",
       "      <td>1.18</td>\n",
       "      <td>1218000.0</td>\n",
       "      <td>2002</td>\n",
       "      <td>Alabama</td>\n",
       "      <td>South</td>\n",
       "      <td>0.0</td>\n",
       "      <td>1178.8</td>\n",
       "      <td>840.4</td>\n",
       "      <td>0.0</td>\n",
       "      <td>0.0</td>\n",
       "      <td>2019.2</td>\n",
       "    </tr>\n",
       "    <tr>\n",
       "      <th>3</th>\n",
       "      <td>AL</td>\n",
       "      <td>12000.0</td>\n",
       "      <td>87</td>\n",
       "      <td>1044000.0</td>\n",
       "      <td>282000.0</td>\n",
       "      <td>1.41</td>\n",
       "      <td>1472000.0</td>\n",
       "      <td>2004</td>\n",
       "      <td>Alabama</td>\n",
       "      <td>South</td>\n",
       "      <td>2676.4</td>\n",
       "      <td>1323.9</td>\n",
       "      <td>3863.9</td>\n",
       "      <td>0.0</td>\n",
       "      <td>0.0</td>\n",
       "      <td>7864.2</td>\n",
       "    </tr>\n",
       "    <tr>\n",
       "      <th>4</th>\n",
       "      <td>AL</td>\n",
       "      <td>13000.0</td>\n",
       "      <td>66</td>\n",
       "      <td>858000.0</td>\n",
       "      <td>266000.0</td>\n",
       "      <td>1.02</td>\n",
       "      <td>875000.0</td>\n",
       "      <td>2005</td>\n",
       "      <td>Alabama</td>\n",
       "      <td>South</td>\n",
       "      <td>1503.6</td>\n",
       "      <td>994.5</td>\n",
       "      <td>5493.9</td>\n",
       "      <td>0.0</td>\n",
       "      <td>0.0</td>\n",
       "      <td>7992.0</td>\n",
       "    </tr>\n",
       "  </tbody>\n",
       "</table>\n",
       "</div>"
      ],
      "text/plain": [
       "  state   numcol  yieldpercol  totalprod    stocks  priceperlb  prodvalue  \\\n",
       "0    AL  11000.0           56   616000.0  209000.0        1.49   918000.0   \n",
       "1    AL  11000.0           72   792000.0  230000.0        1.21   958000.0   \n",
       "2    AL  12000.0           86  1032000.0  103000.0        1.18  1218000.0   \n",
       "3    AL  12000.0           87  1044000.0  282000.0        1.41  1472000.0   \n",
       "4    AL  13000.0           66   858000.0  266000.0        1.02   875000.0   \n",
       "\n",
       "   year StateName Region  nCLOTHIANIDIN  nIMIDACLOPRID  nTHIAMETHOXAM  \\\n",
       "0  2007   Alabama  South         7696.2         3258.1         4149.6   \n",
       "1  2006   Alabama  South          680.0         4230.2         5371.6   \n",
       "2  2002   Alabama  South            0.0         1178.8          840.4   \n",
       "3  2004   Alabama  South         2676.4         1323.9         3863.9   \n",
       "4  2005   Alabama  South         1503.6          994.5         5493.9   \n",
       "\n",
       "   nACETAMIPRID  nTHIACLOPRID  nAllNeonic  \n",
       "0           0.0           0.0     15103.9  \n",
       "1           0.0           0.0     10281.8  \n",
       "2           0.0           0.0      2019.2  \n",
       "3           0.0           0.0      7864.2  \n",
       "4           0.0           0.0      7992.0  "
      ]
     },
     "execution_count": 3,
     "metadata": {},
     "output_type": "execute_result"
    }
   ],
   "source": [
    "original_df = pd.read_csv('../04 - Data/Raw_Data/vHoneyNeonic_v02.csv')\n",
    "original_df.head()"
   ]
  },
  {
   "cell_type": "code",
   "execution_count": 4,
   "metadata": {
    "id": "1hDWEsAKiC8r"
   },
   "outputs": [],
   "source": [
    "####### NORTH DAKOTA'S PREVIOUS YIELD #######\n",
    "\n",
    "# Get the North Dakota's yield per colony by year\n",
    "nd_df = original_df[original_df['StateName'] == 'North Dakota']\n",
    "nd_df = nd_df[['year', 'yieldpercol']]\n",
    "nd_df['Next Year'] = nd_df['year'] + 1\n",
    "nd_df.rename(columns={'yieldpercol':'NorthDakota_PrevYear'}, inplace=True)"
   ]
  },
  {
   "cell_type": "code",
   "execution_count": 5,
   "metadata": {
    "id": "oHca7CbsiC8s"
   },
   "outputs": [],
   "source": [
    "# Merge ND prev year yield\n",
    "df = original_df.copy()\n",
    "df = original_df.merge(nd_df[['Next Year', 'NorthDakota_PrevYear']], \n",
    "                       left_on='year', right_on='Next Year', how='left')\n",
    "df.drop(columns='Next Year', inplace=True)"
   ]
  },
  {
   "cell_type": "code",
   "execution_count": 6,
   "metadata": {
    "id": "n_HVK10uiC8s",
    "outputId": "9fbfa185-2669-4507-cb62-4968e42a792a"
   },
   "outputs": [
    {
     "name": "stderr",
     "output_type": "stream",
     "text": [
      "C:\\Users\\kalat\\AppData\\Local\\Temp\\ipykernel_9612\\3406972834.py:4: SettingWithCopyWarning: \n",
      "A value is trying to be set on a copy of a slice from a DataFrame.\n",
      "Try using .loc[row_indexer,col_indexer] = value instead\n",
      "\n",
      "See the caveats in the documentation: https://pandas.pydata.org/pandas-docs/stable/user_guide/indexing.html#returning-a-view-versus-a-copy\n",
      "  prev_yield_df['NextYear'] = prev_yield_df['year'] + 1\n",
      "C:\\Users\\kalat\\AppData\\Local\\Temp\\ipykernel_9612\\3406972834.py:5: SettingWithCopyWarning: \n",
      "A value is trying to be set on a copy of a slice from a DataFrame\n",
      "\n",
      "See the caveats in the documentation: https://pandas.pydata.org/pandas-docs/stable/user_guide/indexing.html#returning-a-view-versus-a-copy\n",
      "  prev_yield_df.rename(columns={'yieldpercol':'prevyearyield'}, inplace=True)\n"
     ]
    }
   ],
   "source": [
    "####### PREVIOUS YIELD BY STATE #######\n",
    "\n",
    "prev_yield_df = original_df[['StateName', 'year', 'yieldpercol']]\n",
    "prev_yield_df['NextYear'] = prev_yield_df['year'] + 1\n",
    "prev_yield_df.rename(columns={'yieldpercol':'prevyearyield'}, inplace=True)"
   ]
  },
  {
   "cell_type": "code",
   "execution_count": 7,
   "metadata": {
    "id": "drdAEJWLiC8s"
   },
   "outputs": [],
   "source": [
    "# Join previous year's yield\n",
    "interim_df = df.merge(prev_yield_df[['NextYear', 'prevyearyield', 'StateName']], left_on=['year', 'StateName'], right_on=['NextYear', 'StateName'], how='left')\n",
    "interim_df.drop(columns='NextYear', inplace=True)\n",
    "df = interim_df.copy()"
   ]
  },
  {
   "cell_type": "code",
   "execution_count": 8,
   "metadata": {
    "id": "cyzAFVzkiC8s",
    "outputId": "9fa5ffcb-1252-41cb-c76d-606451ab774f"
   },
   "outputs": [
    {
     "data": {
      "text/plain": [
       "Index(['state', 'numcol', 'yieldpercol', 'totalprod', 'stocks', 'priceperlb',\n",
       "       'prodvalue', 'year', 'StateName', 'Region', 'nCLOTHIANIDIN',\n",
       "       'nIMIDACLOPRID', 'nTHIAMETHOXAM', 'nACETAMIPRID', 'nTHIACLOPRID',\n",
       "       'nAllNeonic', 'NorthDakota_PrevYear', 'prevyearyield'],\n",
       "      dtype='object')"
      ]
     },
     "execution_count": 8,
     "metadata": {},
     "output_type": "execute_result"
    }
   ],
   "source": [
    "df.columns"
   ]
  },
  {
   "cell_type": "code",
   "execution_count": 9,
   "metadata": {
    "id": "z6r_l9KYiC8t",
    "outputId": "9797687f-6b7b-473e-d0f0-6a7f97c2a7d8"
   },
   "outputs": [
    {
     "name": "stderr",
     "output_type": "stream",
     "text": [
      "C:\\Users\\kalat\\AppData\\Local\\Temp\\ipykernel_9612\\146946584.py:5: SettingWithCopyWarning: \n",
      "A value is trying to be set on a copy of a slice from a DataFrame.\n",
      "Try using .loc[row_indexer,col_indexer] = value instead\n",
      "\n",
      "See the caveats in the documentation: https://pandas.pydata.org/pandas-docs/stable/user_guide/indexing.html#returning-a-view-versus-a-copy\n",
      "  prev_pest_df['NextYear'] = prev_pest_df['year'] + 1\n",
      "C:\\Users\\kalat\\AppData\\Local\\Temp\\ipykernel_9612\\146946584.py:12: SettingWithCopyWarning: \n",
      "A value is trying to be set on a copy of a slice from a DataFrame\n",
      "\n",
      "See the caveats in the documentation: https://pandas.pydata.org/pandas-docs/stable/user_guide/indexing.html#returning-a-view-versus-a-copy\n",
      "  prev_pest_df.rename(columns=rename_dict, inplace=True)\n",
      "C:\\Users\\kalat\\AppData\\Local\\Temp\\ipykernel_9612\\146946584.py:13: SettingWithCopyWarning: \n",
      "A value is trying to be set on a copy of a slice from a DataFrame\n",
      "\n",
      "See the caveats in the documentation: https://pandas.pydata.org/pandas-docs/stable/user_guide/indexing.html#returning-a-view-versus-a-copy\n",
      "  prev_pest_df.drop(columns='year', inplace=True)\n"
     ]
    }
   ],
   "source": [
    "####### PREVIOUS PESTICIDE DEPLOYEMENTS BY STATE YEAR #######\n",
    "prev_pest_df = df[['StateName', 'year', \n",
    "                   'nCLOTHIANIDIN','nIMIDACLOPRID', 'nTHIAMETHOXAM', \n",
    "                   'nACETAMIPRID', 'nTHIACLOPRID']]\n",
    "prev_pest_df['NextYear'] = prev_pest_df['year'] + 1\n",
    "\n",
    "# Make renaming dict\n",
    "rename_dict = {}\n",
    "for col in prev_pest_df.columns[2:-1]:\n",
    "    rename_dict[col] = 'prevyear_' + col\n",
    "\n",
    "prev_pest_df.rename(columns=rename_dict, inplace=True)\n",
    "prev_pest_df.drop(columns='year', inplace=True)"
   ]
  },
  {
   "cell_type": "code",
   "execution_count": 10,
   "metadata": {
    "id": "f1IhWQYIiC8t"
   },
   "outputs": [],
   "source": [
    "interim_df = df.copy()\n",
    "interim_df = interim_df.merge(prev_pest_df,\n",
    "                 left_on=['StateName', 'year'], right_on=['StateName', 'NextYear'], how='left')\n",
    "interim_df.drop(columns='NextYear', inplace=True)\n",
    "df = interim_df.copy()"
   ]
  },
  {
   "cell_type": "code",
   "execution_count": 11,
   "metadata": {
    "id": "gMot40uYiC8t"
   },
   "outputs": [],
   "source": [
    "######## FILL NULLS #########\n",
    "\n",
    "# Fill prevyearyield with state average\n",
    "state_avg_yield = df[['StateName', 'yieldpercol']]\n",
    "state_avg_yield = state_avg_yield.groupby('StateName').mean()\n",
    "state_avg_yield.reset_index(inplace=True)\n",
    "state_avg_yield.rename(columns={'yieldpercol':'avgyield'}, inplace=True)\n",
    "\n",
    "interim_df = df.copy()\n",
    "interim_df = interim_df.merge(right=state_avg_yield, on='StateName', how='left')\n",
    "interim_df.prevyearyield = np.where(interim_df.prevyearyield.isnull(), interim_df.avgyield, interim_df.prevyearyield)\n",
    "interim_df.drop(columns='avgyield', inplace=True)\n",
    "df = interim_df.copy()"
   ]
  },
  {
   "cell_type": "code",
   "execution_count": 12,
   "metadata": {
    "id": "7LBi3xfIiC8t"
   },
   "outputs": [],
   "source": [
    "# North Dakota Previous Year Nulls\n",
    "nd_avg_yield = np.mean(df[df['StateName'] == 'North Dakota']['yieldpercol'])\n",
    "interim_df = df.copy()\n",
    "interim_df['NorthDakota_PrevYear'].fillna(value=nd_avg_yield, inplace=True)\n",
    "df = interim_df.copy()"
   ]
  },
  {
   "cell_type": "code",
   "execution_count": 13,
   "metadata": {
    "id": "kbNFaYbgiC8u"
   },
   "outputs": [],
   "source": [
    "nCOLS = list(df.columns[10:16])\n",
    "prevyear_nCOLS = list(df.columns[18:])\n",
    "all_cols_list = nCOLS + prevyear_nCOLS\n",
    "states = set(list(df['StateName']))\n",
    "interim_df = df.copy()\n",
    "\n",
    "for col in all_cols_list:\n",
    "    for state in states:\n",
    "        state_nCOL_avg = np.mean(interim_df[interim_df['StateName'] == state][str(col)])\n",
    "        interim_df[str(col)].fillna(value=state_nCOL_avg, inplace=True)\n",
    "df = interim_df.copy()"
   ]
  },
  {
   "cell_type": "code",
   "execution_count": 14,
   "metadata": {
    "id": "TPXdrhcuiC8u"
   },
   "outputs": [],
   "source": [
    "df.columns\n",
    "df_col_list = ['StateName', 'year', 'numcol', 'yieldpercol', 'totalprod', 'stocks', 'priceperlb',\n",
    "       'prodvalue', 'Region', 'nCLOTHIANIDIN',\n",
    "       'nIMIDACLOPRID', 'nTHIAMETHOXAM', 'nACETAMIPRID', \n",
    "       'nTHIACLOPRID', 'nAllNeonic',\n",
    "       'prevyear_nCLOTHIANIDIN', 'prevyear_nIMIDACLOPRID',\n",
    "       'prevyear_nTHIAMETHOXAM', 'prevyear_nACETAMIPRID',\n",
    "       'prevyear_nTHIACLOPRID',  'NorthDakota_PrevYear', 'prevyearyield']\n",
    "df = df[df_col_list]"
   ]
  },
  {
   "cell_type": "code",
   "execution_count": 16,
   "metadata": {
    "id": "qomJNyUmiC8u"
   },
   "outputs": [],
   "source": [
    "df.to_csv('../04 - Data/Final Data/honey_neonic_cleaned.csv')"
   ]
  },
  {
   "cell_type": "code",
   "execution_count": 17,
   "metadata": {
    "id": "llTEtgp5iC8u"
   },
   "outputs": [],
   "source": [
    "pd.get_dummies(df).to_csv('../04 - Data/Final Data/honey_neonic_cleaned_dummies.csv')"
   ]
  },
  {
   "cell_type": "code",
   "execution_count": null,
   "metadata": {
    "id": "ZW-RnIvWiC8u"
   },
   "outputs": [],
   "source": []
  }
 ],
 "metadata": {
  "colab": {
   "provenance": [
    {
     "file_id": "1CJENv5VzuhZbDNqr-qXbfUghPggmvOiO",
     "timestamp": 1669576846472
    }
   ]
  },
  "kernelspec": {
   "display_name": "Python 3 (ipykernel)",
   "language": "python",
   "name": "python3"
  },
  "language_info": {
   "codemirror_mode": {
    "name": "ipython",
    "version": 3
   },
   "file_extension": ".py",
   "mimetype": "text/x-python",
   "name": "python",
   "nbconvert_exporter": "python",
   "pygments_lexer": "ipython3",
   "version": "3.9.12"
  },
  "vscode": {
   "interpreter": {
    "hash": "1a10f2fbefaf991ce5ca69099618177d9151aad1b2bddd9d8483fe14475f193e"
   }
  }
 },
 "nbformat": 4,
 "nbformat_minor": 1
}
